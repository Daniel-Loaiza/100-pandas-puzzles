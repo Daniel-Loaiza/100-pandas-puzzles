{
  "nbformat": 4,
  "nbformat_minor": 0,
  "metadata": {
    "colab": {
      "provenance": [],
      "mount_file_id": "1iYrIX5VV7DEaAeJVlTdWfmDb6Z1u-GrE",
      "authorship_tag": "ABX9TyP+wBpUTnymcGm6dm44kvGY",
      "include_colab_link": true
    },
    "kernelspec": {
      "name": "python3",
      "display_name": "Python 3"
    },
    "language_info": {
      "name": "python"
    }
  },
  "cells": [
    {
      "cell_type": "markdown",
      "metadata": {
        "id": "view-in-github",
        "colab_type": "text"
      },
      "source": [
        "<a href=\"https://colab.research.google.com/github/Daniel-Loaiza/100-pandas-puzzles/blob/master/OnlineRetail_EDA.ipynb\" target=\"_parent\"><img src=\"https://colab.research.google.com/assets/colab-badge.svg\" alt=\"Open In Colab\"/></a>"
      ]
    },
    {
      "cell_type": "markdown",
      "source": [
        "**Data Ingestion**"
      ],
      "metadata": {
        "id": "RPX5gO-Y6Bft"
      }
    },
    {
      "cell_type": "code",
      "execution_count": null,
      "metadata": {
        "id": "Hpf-1D3ZfPW0"
      },
      "outputs": [],
      "source": [
        "# To import data from a Google Sheet into Google Colab, the gspread library is a common and effective method.\n",
        "from google.colab import auth\n",
        "auth.authenticate_user()\n",
        "\n",
        "import gspread\n",
        "from google.auth import default\n",
        "creds, _ = default()\n",
        "gc = gspread.authorize(creds)"
      ]
    },
    {
      "cell_type": "code",
      "source": [
        "# You can open the spreadsheet by its name or its URL. Ensure the sheet is shared with appropriate permissions (e.g., \"Anyone with the link can view\").\n",
        "spreadsheet_url = 'https://docs.google.com/spreadsheets/d/1zanmQtWUhTwrYVgKwtl_qd2QFLWvzsM_cdTVVTF6EHU/edit?usp=sharing'\n",
        "worksheet = gc.open_by_url(spreadsheet_url).sheet1"
      ],
      "metadata": {
        "id": "qZAFYQIwf9EN"
      },
      "execution_count": null,
      "outputs": []
    },
    {
      "cell_type": "code",
      "source": [
        "# Retrieve Data.\n",
        "# You can get all values from the worksheet or a specific range. All values.\n",
        "data = worksheet.get_all_values()"
      ],
      "metadata": {
        "id": "wg0fZHNTgEXN"
      },
      "execution_count": null,
      "outputs": []
    },
    {
      "cell_type": "code",
      "source": [
        "#Import necessary libraries for data wrangling and processing\n",
        "import numpy as np\n",
        "import pandas as pd\n",
        "import matplotlib.pyplot as plt\n",
        "import seaborn as sns"
      ],
      "metadata": {
        "id": "i_9MsY-wABuq"
      },
      "execution_count": null,
      "outputs": []
    },
    {
      "cell_type": "code",
      "source": [
        "#Transform the Excel data into a pandas DataFrame\n",
        "df = pd.DataFrame(data)\n",
        "\n",
        "# If your first row is the header, you can set it:\n",
        "df.columns = df.iloc[0]\n",
        "df = df[1:].reset_index(drop=True)"
      ],
      "metadata": {
        "id": "DClXrM7egJD7"
      },
      "execution_count": null,
      "outputs": []
    },
    {
      "cell_type": "code",
      "source": [
        "df.columns"
      ],
      "metadata": {
        "id": "1sch6QYUzNc2"
      },
      "execution_count": null,
      "outputs": []
    },
    {
      "cell_type": "code",
      "source": [
        "df.shape"
      ],
      "metadata": {
        "id": "K8DCnilF8D-j"
      },
      "execution_count": null,
      "outputs": []
    },
    {
      "cell_type": "code",
      "source": [
        "df.head(10)"
      ],
      "metadata": {
        "id": "Jbhkg7CV3Szg"
      },
      "execution_count": null,
      "outputs": []
    },
    {
      "cell_type": "code",
      "source": [
        "df = df.astype({'InvoiceNo': str, 'StockCode': str, 'Description': str, 'Quantity':int, \\\n",
        "                'InvoiceDate':'datetime64[ns]','UnitPrice':float, 'CustomerID':str, 'Country':str})"
      ],
      "metadata": {
        "id": "RGIx4DJhzMDY"
      },
      "execution_count": null,
      "outputs": []
    },
    {
      "cell_type": "code",
      "source": [
        "df.drop_duplicates(inplace = True)"
      ],
      "metadata": {
        "id": "ogqIyF5YyVd8"
      },
      "execution_count": null,
      "outputs": []
    },
    {
      "cell_type": "code",
      "source": [
        "# Dropping wrong data\n",
        "df = df[~((df['Description']=='') | (df['Description'].str.contains('\\?')) | (df['Description'].str.contains('amage')) | \\\n",
        " (df['Quantity']<=0) | (df['UnitPrice']<=0))]"
      ],
      "metadata": {
        "id": "lsl3oMnjorAO"
      },
      "execution_count": null,
      "outputs": []
    },
    {
      "cell_type": "code",
      "source": [
        "df.info()"
      ],
      "metadata": {
        "id": "k6wfXghI9Tbl"
      },
      "execution_count": null,
      "outputs": []
    },
    {
      "cell_type": "code",
      "source": [
        "df[['InvoiceNo','StockCode','Description','CustomerID','Country']].describe()"
      ],
      "metadata": {
        "id": "26ZVF0oc7dci"
      },
      "execution_count": null,
      "outputs": []
    },
    {
      "cell_type": "code",
      "source": [
        "df[['Quantity','UnitPrice','InvoiceDate']].describe()"
      ],
      "metadata": {
        "id": "2zr7pKx24Far"
      },
      "execution_count": null,
      "outputs": []
    },
    {
      "cell_type": "code",
      "source": [
        "invoice_day=df['InvoiceDate']\n",
        "invoice_day.dt.year"
      ],
      "metadata": {
        "id": "wLRlC27G70XI"
      },
      "execution_count": null,
      "outputs": []
    },
    {
      "cell_type": "code",
      "source": [
        "df['CustomerID'].value_counts()"
      ],
      "metadata": {
        "id": "-uGlisqXs5L1"
      },
      "execution_count": null,
      "outputs": []
    },
    {
      "cell_type": "code",
      "source": [
        "df['CustomerID'] = df['CustomerID'].replace('', 'Not registered')"
      ],
      "metadata": {
        "id": "HPnFozdGyc9C"
      },
      "execution_count": null,
      "outputs": []
    },
    {
      "cell_type": "code",
      "source": [
        "df['CustomerID'].value_counts()"
      ],
      "metadata": {
        "id": "eeqopdOIs9Go"
      },
      "execution_count": null,
      "outputs": []
    },
    {
      "cell_type": "code",
      "source": [
        "df.shape"
      ],
      "metadata": {
        "id": "G8NEq0mI70Kn"
      },
      "execution_count": null,
      "outputs": []
    },
    {
      "cell_type": "code",
      "source": [
        "df.plot(kind='scatter', x='Quantity', y='UnitPrice')"
      ],
      "metadata": {
        "id": "GTRQDoIe-cdx"
      },
      "execution_count": null,
      "outputs": []
    },
    {
      "cell_type": "markdown",
      "source": [
        "**Data Wrangling**"
      ],
      "metadata": {
        "id": "gbVKbj5w6owo"
      }
    },
    {
      "cell_type": "code",
      "source": [
        "df.head()"
      ],
      "metadata": {
        "id": "3IJdpdud6ZRn"
      },
      "execution_count": null,
      "outputs": []
    },
    {
      "cell_type": "code",
      "source": [
        "# Best seller products\n",
        "df['Description'].value_counts()[:10]"
      ],
      "metadata": {
        "id": "Zhbmc5yhizYY"
      },
      "execution_count": null,
      "outputs": []
    },
    {
      "cell_type": "markdown",
      "source": [
        "EDA"
      ],
      "metadata": {
        "id": "c59gzV4g9ysh"
      }
    },
    {
      "cell_type": "code",
      "source": [
        "!pip install -U ydata-profiling --quiet"
      ],
      "metadata": {
        "id": "BOHyrh_3-DCQ"
      },
      "execution_count": null,
      "outputs": []
    },
    {
      "cell_type": "code",
      "source": [
        "from ydata_profiling import ProfileReport\n",
        "profile = ProfileReport(df, title=\"Pandas Profiling Report\")\n",
        "profile.to_file(\"your_report.html\")"
      ],
      "metadata": {
        "id": "D0Qhc26690c5"
      },
      "execution_count": null,
      "outputs": []
    },
    {
      "cell_type": "code",
      "source": [
        "profile"
      ],
      "metadata": {
        "id": "bq1Y99qk92tZ"
      },
      "execution_count": null,
      "outputs": []
    },
    {
      "cell_type": "code",
      "source": [
        "df['CustomerID'].value_counts()"
      ],
      "metadata": {
        "id": "S01Zx42oHr6s"
      },
      "execution_count": null,
      "outputs": []
    },
    {
      "cell_type": "markdown",
      "source": [
        "**Data Visualisation**"
      ],
      "metadata": {
        "id": "s14SgG_B6-mk"
      }
    },
    {
      "cell_type": "markdown",
      "source": [
        "With Matplotlib"
      ],
      "metadata": {
        "id": "USlDRdgKc_rx"
      }
    },
    {
      "cell_type": "code",
      "source": [
        "fig, ax = plt.subplots(figsize=(10, 6))\n",
        "x = df['Description'].value_counts().head(5).index\n",
        "y = df['Description'].value_counts().head(5).values\n",
        "\n",
        "bar_labels = ['blue', 'orange', 'green', 'red', 'purple'] #, 'brown', 'pink', 'gray', 'olive', 'cyan'\n",
        "bar_colors = ['tab:blue', 'tab:orange', 'tab:green', 'tab:red', 'tab:purple'] #, 'tab:brown', 'tab:pink', 'tab:gray', 'tab:olive', 'tab:cyan'\n",
        "\n",
        "bars = ax.bar(x, y, label=bar_labels, color=bar_colors)\n",
        "\n",
        "ax.set_ylabel('Best sellers')\n",
        "ax.set_title('Top five products selled by kind and color')\n",
        "ax.tick_params(axis='x', labelsize=10, rotation=90)\n",
        "\n",
        "ax.bar_label(bars)\n",
        "\n",
        "plt.show()"
      ],
      "metadata": {
        "id": "9wZFozMD3LQO"
      },
      "execution_count": null,
      "outputs": []
    },
    {
      "cell_type": "code",
      "source": [
        "df['Description'].value_counts().head(10).plot(kind='bar')"
      ],
      "metadata": {
        "id": "7H2V4g1S2Rt3"
      },
      "execution_count": null,
      "outputs": []
    },
    {
      "cell_type": "markdown",
      "source": [
        "With Seaborn"
      ],
      "metadata": {
        "id": "jDQrvzp_cv1X"
      }
    },
    {
      "cell_type": "code",
      "source": [
        "sns.histplot(data=df, x=\"Quantity\", bins=20000, kde=True, color=\"green\")"
      ],
      "metadata": {
        "id": "japHRL44HXLg"
      },
      "execution_count": null,
      "outputs": []
    },
    {
      "cell_type": "code",
      "source": [
        "sns.histplot(data=df, x=\"UnitPrice\", bins=2000, kde=True, color=\"green\")"
      ],
      "metadata": {
        "id": "NHiqkPAZIwj6"
      },
      "execution_count": null,
      "outputs": []
    },
    {
      "cell_type": "code",
      "source": [
        "sns.scatterplot(x=\"Quantity\", y=\"UnitPrice\", data=df)"
      ],
      "metadata": {
        "id": "rPbAwC1DGmNC"
      },
      "execution_count": null,
      "outputs": []
    },
    {
      "cell_type": "markdown",
      "source": [
        "**Data visualisation Using Plotly**"
      ],
      "metadata": {
        "id": "0XsVYtIMB1bk"
      }
    },
    {
      "cell_type": "code",
      "source": [
        "!pip install plotly --quiet"
      ],
      "metadata": {
        "id": "7fqeEoIGjSpz"
      },
      "execution_count": null,
      "outputs": []
    },
    {
      "cell_type": "code",
      "source": [],
      "metadata": {
        "id": "nGLZ-b4p1uFa"
      },
      "execution_count": null,
      "outputs": []
    },
    {
      "cell_type": "code",
      "source": [
        "!pip install --upgrade kaleido"
      ],
      "metadata": {
        "id": "DCeweM7Kygsx"
      },
      "execution_count": null,
      "outputs": []
    },
    {
      "cell_type": "code",
      "source": [
        "    import plotly.express as px\n",
        "    import plotly.graph_objects as go"
      ],
      "metadata": {
        "id": "YE0i3_REs4MK"
      },
      "execution_count": null,
      "outputs": []
    },
    {
      "cell_type": "code",
      "source": [
        "    import pandas as pd\n",
        "\n",
        "    # Sample data\n",
        "    df = pd.DataFrame({\n",
        "        \"x\": [1, 2, 3, 4, 5],\n",
        "        \"y\": [10, 11, 12, 13, 14]\n",
        "    })\n",
        "\n",
        "    # Create the scatter plot\n",
        "    fig = px.scatter(df, x=\"x\", y=\"y\", title=\"Sample Scatter Plot\")"
      ],
      "metadata": {
        "id": "tm1e-29vtAgX"
      },
      "execution_count": null,
      "outputs": []
    },
    {
      "cell_type": "code",
      "source": [
        "fig"
      ],
      "metadata": {
        "id": "WRW95D1ItCwq"
      },
      "execution_count": null,
      "outputs": []
    },
    {
      "cell_type": "code",
      "source": [
        "import os\n",
        "os.getcwd()"
      ],
      "metadata": {
        "id": "07xNDDE6tF83"
      },
      "execution_count": null,
      "outputs": []
    },
    {
      "cell_type": "code",
      "source": [
        "from google.colab import drive\n",
        "drive.mount('/content/drive')"
      ],
      "metadata": {
        "id": "Kk_3cP8Ztja3"
      },
      "execution_count": null,
      "outputs": []
    },
    {
      "cell_type": "code",
      "source": [
        "os.getcwd()"
      ],
      "metadata": {
        "id": "QsJmi6x7upXD"
      },
      "execution_count": null,
      "outputs": []
    },
    {
      "cell_type": "code",
      "source": [
        "os.chdir('/content/drive/MyDrive/Colab Notebooks')"
      ],
      "metadata": {
        "id": "P3CF1Gknu5XY"
      },
      "execution_count": null,
      "outputs": []
    },
    {
      "cell_type": "code",
      "source": [
        "fig.write_html('/content/drive/MyDrive/Colab Notebooks/my_plot.html')"
      ],
      "metadata": {
        "id": "9RX2Q56PwSvK"
      },
      "execution_count": null,
      "outputs": []
    },
    {
      "cell_type": "code",
      "source": [],
      "metadata": {
        "id": "wExqz8Hp73uu"
      },
      "execution_count": null,
      "outputs": []
    }
  ]
}